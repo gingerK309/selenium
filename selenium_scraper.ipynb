{
 "cells": [
  {
   "cell_type": "code",
   "execution_count": 1,
   "metadata": {},
   "outputs": [],
   "source": [
    "from selenium import webdriver\n",
    "from selenium.webdriver.chrome.options import Options\n",
    "from selenium.webdriver.support.ui import WebDriverWait\n",
    "from selenium.webdriver.support import expected_conditions as EC\n",
    "from selenium.webdriver.common.by import By\n",
    "from time import sleep\n",
    "import pandas as pd"
   ]
  },
  {
   "cell_type": "code",
   "execution_count": 2,
   "metadata": {},
   "outputs": [],
   "source": [
    "def get_currencies(currencies, start, end, export_csv = False):\n",
    "    frames = []\n",
    "    for currency in currencies:\n",
    "        while True:\n",
    "            try:\n",
    "                url = f'https://www.investing.com/currencies/krw-{currency.lower()}-historical-data'\n",
    "                option = Options()\n",
    "                option.headless = False\n",
    "                driver = webdriver.Chrome(options=option)\n",
    "                driver.get(url)\n",
    "                driver.maximize_window()\n",
    "    \n",
    "                date_button = WebDriverWait(driver,20).until(EC.element_to_be_clickable(\n",
    "                    (By.XPATH,'/html/body/div[5]/section/div[8]/div[3]/div/div[2]/span')))\n",
    "                date_button.click()\n",
    "    \n",
    "                start_bar = WebDriverWait(driver, 20).until(EC.element_to_be_clickable(\n",
    "                    (By.XPATH,'/html/body/div[7]/div[1]/input[1]')))\n",
    "                start_bar.clear()\n",
    "                start_bar.send_keys(start)\n",
    "    \n",
    "                end_bar = WebDriverWait(driver,20).until(EC.element_to_be_clickable(\n",
    "                    (By.XPATH,'/html/body/div[7]/div[1]/input[2]')))\n",
    "                end_bar.clear()\n",
    "                end_bar.send_keys(end)\n",
    "    \n",
    "                apply_button = WebDriverWait(driver,20).until(EC.element_to_be_clickable(\n",
    "                    (By.XPATH,'/html/body/div[7]/div[5]/a')))\n",
    "                apply_button.click()\n",
    "                sleep(5)\n",
    "    \n",
    "                dataframes = pd.read_html(driver.page_source)\n",
    "                driver.quit()\n",
    "                print(f'{currency} scraped.')\n",
    "                break\n",
    "            \n",
    "            except:\n",
    "                driver.quit()\n",
    "                print(f'Failed to scrape {currency}. Trying again in 10 seconds')\n",
    "                sleep(10)\n",
    "                continue\n",
    "            \n",
    "        for dataframe in dataframes:\n",
    "            if dataframe.columns.tolist() == ['Date','Price','Open','High','Low','Change%']:\n",
    "                df = dataframe\n",
    "                frames.append(df)\n",
    "            if export_csv:\n",
    "                dataframe.to_csv(f'{currency}.csv', index=False)\n",
    "                print(f'{currency}.csv exported.')\n",
    "                break"
   ]
  },
  {
   "cell_type": "code",
   "execution_count": 3,
   "metadata": {},
   "outputs": [
    {
     "name": "stdout",
     "output_type": "stream",
     "text": [
      "eur scraped.\n",
      "eur.csv exported.\n",
      "jpy scraped.\n",
      "jpy.csv exported.\n",
      "chf scraped.\n",
      "chf.csv exported.\n"
     ]
    }
   ],
   "source": [
    "currencies = ['eur','jpy','chf']\n",
    "get_currencies(currencies,start='01/01/2020',end='01/14/2021',export_csv=True)"
   ]
  }
 ],
 "metadata": {
  "kernelspec": {
   "display_name": "Python 3",
   "language": "python",
   "name": "python3"
  },
  "language_info": {
   "codemirror_mode": {
    "name": "ipython",
    "version": 3
   },
   "file_extension": ".py",
   "mimetype": "text/x-python",
   "name": "python",
   "nbconvert_exporter": "python",
   "pygments_lexer": "ipython3",
   "version": "3.8.2"
  }
 },
 "nbformat": 4,
 "nbformat_minor": 4
}
